{
 "cells": [
  {
   "cell_type": "code",
   "execution_count": 2,
   "metadata": {},
   "outputs": [],
   "source": [
    "using Gurobi, JuMP, DataFrames, CSV, Plots"
   ]
  },
  {
   "cell_type": "code",
   "execution_count": 3,
   "metadata": {},
   "outputs": [],
   "source": [
    "x = CSV.read(\"./data/opt_x.csv\", DataFrame)\n",
    "X = zeros(168,168,74)\n",
    "for i in 1:3\n",
    "    for j in 1:168\n",
    "        X[i,j,:] = CSV.read(IOBuffer(x[i,j][2:prevind(x[i,j], end)]), DataFrame, header=false, transpose=true)[:,1]\n",
    "    end\n",
    "end"
   ]
  },
  {
   "cell_type": "code",
   "execution_count": 5,
   "metadata": {},
   "outputs": [
    {
     "data": {
      "text/plain": [
       "3×168×74 Array{Float64, 3}:\n",
       "[:, :, 1] =\n",
       " -2.33287e-13  0.0  -4.73679e-13  0.0  …  -1.02616e-12  -6.63729e-13  0.0\n",
       "  0.0          0.0   0.0          0.0      0.0           0.0          0.0\n",
       "  0.0          0.0   0.0          0.0      0.0           0.0          0.0\n",
       "\n",
       "[:, :, 2] =\n",
       " 380.011  0.0    0.0    0.0  0.0  0.0  …  0.0  0.0  0.0  0.0  0.0  0.0  0.0\n",
       "   0.0    0.0    0.0    0.0  0.0  0.0     0.0  0.0  0.0  0.0  0.0  0.0  0.0\n",
       "   0.0    0.0  105.464  0.0  0.0  0.0     0.0  0.0  0.0  0.0  0.0  0.0  0.0\n",
       "\n",
       "[:, :, 3] =\n",
       " 80.5272  0.0    0.0    0.0  0.0  0.0  …  0.0  0.0  0.0  0.0  0.0  0.0  0.0\n",
       "  0.0     0.0    0.0    0.0  0.0  0.0     0.0  0.0  0.0  0.0  0.0  0.0  0.0\n",
       "  0.0     0.0  468.919  0.0  0.0  0.0     0.0  0.0  0.0  0.0  0.0  0.0  0.0\n",
       "\n",
       ";;; … \n",
       "\n",
       "[:, :, 72] =\n",
       " 0.0  0.0  0.0  0.0  0.0  0.0  0.0  0.0  …  0.0  0.0  0.0  0.0  0.0  0.0  0.0\n",
       " 0.0  0.0  0.0  0.0  0.0  0.0  0.0  0.0     0.0  0.0  0.0  0.0  0.0  0.0  0.0\n",
       " 0.0  0.0  0.0  0.0  0.0  0.0  0.0  0.0     0.0  0.0  0.0  0.0  0.0  0.0  0.0\n",
       "\n",
       "[:, :, 73] =\n",
       " 0.0  0.0  0.0  0.0  0.0  0.0  0.0  0.0  …  0.0  0.0  0.0  0.0  0.0  0.0  0.0\n",
       " 0.0  0.0  0.0  0.0  0.0  0.0  0.0  0.0     0.0  0.0  0.0  0.0  0.0  0.0  0.0\n",
       " 0.0  0.0  0.0  0.0  0.0  0.0  0.0  0.0     0.0  0.0  0.0  0.0  0.0  0.0  0.0\n",
       "\n",
       "[:, :, 74] =\n",
       " 0.0  0.0  0.0  0.0  0.0  0.0  0.0  0.0  …  0.0  0.0  0.0  0.0  0.0  0.0  0.0\n",
       " 0.0  0.0  0.0  0.0  0.0  0.0  0.0  0.0     0.0  0.0  0.0  0.0  0.0  0.0  0.0\n",
       " 0.0  0.0  0.0  0.0  0.0  0.0  0.0  0.0     0.0  0.0  0.0  0.0  0.0  0.0  0.0"
      ]
     },
     "execution_count": 5,
     "metadata": {},
     "output_type": "execute_result"
    }
   ],
   "source": [
    "X[1:3, :, :]"
   ]
  },
  {
   "cell_type": "code",
   "execution_count": null,
   "metadata": {},
   "outputs": [],
   "source": [
    "y = CSV.read(\"./data/opt_y2.csv\", DataFrame)\n",
    "Y = zeros(168,168,74)\n",
    "for i in 1:168\n",
    "    for j in 1:168\n",
    "        for k in 1:74\n",
    "            Y[i,j,k] = CSV.read(IOBuffer(y[i,j][2:prevind(x[i,j], end)]), DataFrame, header=false, transpose=true)[k,1]\n",
    "        end\n",
    "    end\n",
    "end"
   ]
  },
  {
   "cell_type": "code",
   "execution_count": null,
   "metadata": {},
   "outputs": [],
   "source": [
    "z = CSV.read(\"./data/opt_y2.csv\", DataFrame)\n",
    "Z = zeros(168,168,74)\n",
    "for i in 1:168\n",
    "    for j in 1:168\n",
    "        for k in 1:74\n",
    "            Z[i,j,k] = CSV.read(IOBuffer(z[i,j][2:prevind(x[i,j], end)]), DataFrame, header=false, transpose=true)[k,1]\n",
    "        end\n",
    "    end\n",
    "end"
   ]
  },
  {
   "cell_type": "code",
   "execution_count": 43,
   "metadata": {},
   "outputs": [
    {
     "data": {
      "text/plain": [
       "0.0"
      ]
     },
     "execution_count": 43,
     "metadata": {},
     "output_type": "execute_result"
    }
   ],
   "source": [
    "∂ = CSV.read(\"./data/opt_delta.csv\", DataFrame)\n",
    "size(∂)\n",
    "count = 0\n",
    "for i=1:168\n",
    "    count += sum(∂[i,:])\n",
    "end\n",
    "count"
   ]
  },
  {
   "cell_type": "code",
   "execution_count": null,
   "metadata": {},
   "outputs": [],
   "source": []
  }
 ],
 "metadata": {
  "kernelspec": {
   "display_name": "Julia 1.8.2",
   "language": "julia",
   "name": "julia-1.8"
  },
  "language_info": {
   "file_extension": ".jl",
   "mimetype": "application/julia",
   "name": "julia",
   "version": "1.8.2"
  },
  "orig_nbformat": 4,
  "vscode": {
   "interpreter": {
    "hash": "abd280d666bc7ac0970437e541308528dc2e63fef0779e2e8f450bcffa0699d3"
   }
  }
 },
 "nbformat": 4,
 "nbformat_minor": 2
}
