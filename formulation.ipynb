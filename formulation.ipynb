{
 "cells": [
  {
   "cell_type": "code",
   "execution_count": 1,
   "metadata": {},
   "outputs": [],
   "source": [
    "using Gurobi, JuMP, DataFrames, CSV, Plots"
   ]
  },
  {
   "cell_type": "markdown",
   "metadata": {},
   "source": [
    "# Utility Function"
   ]
  },
  {
   "cell_type": "code",
   "execution_count": 11,
   "metadata": {},
   "outputs": [],
   "source": [
    "function distance(x1, y1, x2, y2)\n",
    "    floatpointcorrection = sin(y1)*sin(y2) + cos(y1)*cos(y2)*cos(x1-x2)\n",
    "    floatpointcorrection = ifelse(floatpointcorrection > 1, 1.0, floatpointcorrection)\n",
    "    floatpointcorrection = ifelse(floatpointcorrection < -1, -1.0, floatpointcorrection)\n",
    "    ß = acos(floatpointcorrection)\n",
    "    return ß * 6378.1\n",
    "end;"
   ]
  },
  {
   "cell_type": "markdown",
   "metadata": {},
   "source": [
    "# Importing data, rough edits very quickly to clean it up"
   ]
  },
  {
   "cell_type": "code",
   "execution_count": 3,
   "metadata": {},
   "outputs": [],
   "source": [
    "data = CSV.read(\"./data/final_prod.csv\", DataFrame)\n",
    "select!(data, Not(:Column1))\n",
    "select!(data, Not([\"Area Abbreviation\", \"Area Code\", \"Unit\", \"Item Code\"]))\n",
    "data = data[data[:,7] .!= \"Miscellaneous\", :]\n",
    "data = data[data[:,7] .!= \"Aquatic Products, Other\", :]\n",
    "population = data[:, [:Area, :population]];\n",
    "food = data[1, 1:5];"
   ]
  },
  {
   "cell_type": "markdown",
   "metadata": {},
   "source": [
    "# Partitioning and formatting data for Gurobi"
   ]
  },
  {
   "cell_type": "code",
   "execution_count": 4,
   "metadata": {},
   "outputs": [],
   "source": [
    "demand = combine(groupby(data[!,1:6], :Area), first)\n",
    "for row in eachrow(demand)\n",
    "    row[:fats] = 365 * row[:fats]\n",
    "    row[:proteins] = 365 * row[:proteins]\n",
    "    row[:carbs] = 365 * row[:carbs]\n",
    "    row[:fruits_and_veggies] = 365 * row[:fruits_and_veggies]\n",
    "end\n",
    "demand = Matrix(demand[:,2:5]);"
   ]
  },
  {
   "cell_type": "code",
   "execution_count": 5,
   "metadata": {},
   "outputs": [],
   "source": [
    "loc = unique(data[!,[6,8,9]]);"
   ]
  },
  {
   "cell_type": "code",
   "execution_count": 6,
   "metadata": {},
   "outputs": [],
   "source": [
    "supply = data[:,[6,7,10]]\n",
    "supplyT = DataFrame(zeros((length(unique(supply[:,1])), length(unique(supply[:,2])))), :auto)\n",
    "rename!(supplyT, unique(supply[:,2]));\n",
    "supplyg = groupby(supply, :Area)\n",
    "for i in 1:168\n",
    "    for row in eachrow(supplyg[i])\n",
    "        supplyT[i, Symbol(row[2])] = row[3]\n",
    "    end\n",
    "end"
   ]
  },
  {
   "cell_type": "code",
   "execution_count": 12,
   "metadata": {},
   "outputs": [],
   "source": [
    "inverse_populations = inv.(unique(population)[!,2])\n",
    "weighting = CSV.read(\"./data/weighting.csv\", DataFrame)\n",
    "weighting = Matrix(weighting[:,2:end])\n",
    "n,p1 = size(supplyT)\n",
    "n,p2 = size(demand)\n",
    "lambda = 250*365;\n",
    "arcDistance = DataFrame(zeros(n, n), :auto)\n",
    "for i in 1:168\n",
    "    for j in 1:168\n",
    "        arcDistance[i, j] = distance(loc[i,2], loc[i,3], loc[j,2], loc[j,3])\n",
    "    end\n",
    "end\n",
    "arcDistance = Matrix(round.(arcDistance, digits=7));"
   ]
  },
  {
   "cell_type": "code",
   "execution_count": 14,
   "metadata": {},
   "outputs": [
    {
     "data": {
      "text/plain": [
       "50"
      ]
     },
     "metadata": {},
     "output_type": "display_data"
    }
   ],
   "source": [
    "using Random\n",
    "supply_uncertainty = randn!(MersenneTwister(1234), zeros(50, 168, 74))\n",
    "supply_uncertainty = round.(abs.(supply_uncertainty .* inv.(maximum(abs.(supply_uncertainty)))) .* 0.6 .+ 0.9, digits=4)\n",
    "demand_uncertainty = randn!(MersenneTwister(1234), zeros(50, 168, 4))\n",
    "demand_uncertainty = round.(abs.(demand_uncertainty .* inv.(maximum(abs.(demand_uncertainty)))) .* 0.6 .+ 0.9, digits=4);\n",
    "uncertainty=50"
   ]
  },
  {
   "cell_type": "markdown",
   "metadata": {},
   "source": [
    "# Optimization"
   ]
  },
  {
   "cell_type": "code",
   "execution_count": 15,
   "metadata": {},
   "outputs": [
    {
     "data": {
      "text/plain": [
       "0.55"
      ]
     },
     "metadata": {},
     "output_type": "display_data"
    }
   ],
   "source": [
    "øD = 1 # relative scaling of price per unit when transporting to directly\n",
    "øH = 0.6 # relative scaling of price per unit when transporting to a central hub as a point of distribution\n",
    "threshold = 200 # capacity of 10 Boeing 747-400Fs\n",
    "H = 78.91 # price of per km per metric tonne transport via a Boeing 747-400F\n",
    "å = 0.55 # relative importance between the two objectives"
   ]
  },
  {
   "attachments": {},
   "cell_type": "markdown",
   "metadata": {},
   "source": [
    "## Here I'm trying three different formulations of varying levels of complexity.\n",
    "The issue is that this doesn't compile locally with the completed (robust and 2nd level network flow implementations) version. "
   ]
  },
  {
   "cell_type": "code",
   "execution_count": null,
   "metadata": {},
   "outputs": [],
   "source": [
    "model = Model(Gurobi.Optimizer)\n",
    "set_time_limit_sec(model, 60.0)\n",
    "@variable(model, X[i=1:n,j=1:n,k=1:p1] .≥ 0)\n",
    "@variable(model, Y[i=1:n,j=1:n,k=1:p1] .≥ 0)\n",
    "@variable(model, Z[i=1:n,j=1:n,k=1:p1] .≥ 0)\n",
    "@variable(model, ∂[i=1:n,j=1:n], binary=true)\n",
    "@variable(model, ß ≥ 0)\n",
    "@constraint(model, hubIndicator1[i=1:n], sum(∂[i,:]) .≤ 5)\n",
    "@constraint(model, hubIndicator2, 5000000 * ∂ .≥ sum(Y[:,:,k] for k in 1:p1))\n",
    "@constraint(model, realSupply[z=1:uncertainty], sum((X .+ Y)[:,l,:] for l=1:n) .≤ abs.(Matrix(supplyT) .* supply_uncertainty[z,:,:]))\n",
    "@constraint(model, auxiliary[z=1:uncertainty], ß ≥ inverse_populations' * (Matrix(demand) .* demand_uncertainty[z,:,:] - 10000000 * sum((X+Z)[l,:,:] for l=1:n) * weighting) * inv.([41.3, 107.38, 37.9961, 330.4]))\n",
    "@constraint(model, hubIndicator, ∂ .≤ inv(threshold) .* sum((Y+Z+X)[:,:,k] for k=1:p1))\n",
    "@constraint(model,hubEquality[l=1:n,k=1:p1], sum(Y[i,l,k] for i = 1:n) .== sum(Z[l,i,k] for i = 1:n))\n",
    "@objective(model, Min, (1-å) * H * sum(sum(arcDistance .* sum((øD * X + Y * øH .* ∂ + øD * Z .* ∂)[i,j,:]) for j=1:n) for i=1:n) + (å) * ß * lambda)\n",
    "optimize!(model)"
   ]
  },
  {
   "cell_type": "code",
   "execution_count": null,
   "metadata": {},
   "outputs": [],
   "source": [
    "model = Model(Gurobi.Optimizer)\n",
    "set_time_limit_sec(model, 60.0)\n",
    "@variable(model, X[i=1:n,j=1:n,k=1:p1] .≥ 0)\n",
    "@variable(model, ß ≥ 0)\n",
    "@constraint(model, realSupply[z=1:uncertainty], sum(X[:,l,:] for l=1:n) .≤ abs.(Matrix(supplyT) .* supply_uncertainty[z,:,:]))\n",
    "@constraint(model, auxiliary[z=1:uncertainty], ß ≥ inverse_populations' * (Matrix(demand) .* demand_uncertainty[z,:,:] - 10000000 * sum((X+Z)[l,:,:] for l=1:n) * weighting) * inv.([41.3, 107.38, 37.9961, 330.4]))\n",
    "@objective(model, Min, (1-å) * H * sum(sum(arcDistance .* sum(X[i,j,:]) for j=1:n) for i=1:n) + (å) * ß * lambda)\n",
    "optimize!(model)"
   ]
  },
  {
   "cell_type": "code",
   "execution_count": null,
   "metadata": {},
   "outputs": [],
   "source": [
    "model = Model(Gurobi.Optimizer)\n",
    "set_time_limit_sec(model, 60.0)\n",
    "@variable(model, X[i=1:40,j=1:40,k=1:74] .≥ 0)\n",
    "@variable(model, ß ≥ 0, integer=true)\n",
    "@constraint(model, realSupply, sum(X[:,l,:] for l=1:40) .≤ abs.(Matrix(supplyT)[1:40,:]))\n",
    "@constraint(model, auxiliary, ß ≥ inverse_populations[1:40]' * (Matrix(demand)[1:40,:] .* 0.7 - sum(X[l,:,:] for l=1:40) * weighting) * inv.([41.3, 107.38, 37.9961, 330.4]))\n",
    "@objective(model, Min, (1-å) * H * sum(sum(arcDistance[1:40,1:40] .* sum(X[i,j,:]) for j=1:40) for i=1:40) + (å) * ß * lambda)\n",
    "optimize!(model)"
   ]
  },
  {
   "cell_type": "markdown",
   "metadata": {},
   "source": [
    "### Analysis"
   ]
  },
  {
   "cell_type": "markdown",
   "metadata": {},
   "source": [
    "The total distance traveled of all food:"
   ]
  },
  {
   "cell_type": "code",
   "execution_count": 46,
   "metadata": {},
   "outputs": [
    {
     "data": {
      "text/plain": [
       "0.0"
      ]
     },
     "metadata": {},
     "output_type": "display_data"
    }
   ],
   "source": [
    "sum(sum(arcDistance[:5,:5] .* sum(value.(X)[i,j,:]) for j=1:5) for i=1:5)"
   ]
  },
  {
   "cell_type": "markdown",
   "metadata": {},
   "source": [
    "The total calculated transportation cost of all food items:"
   ]
  },
  {
   "cell_type": "code",
   "execution_count": null,
   "metadata": {},
   "outputs": [],
   "source": [
    "inv(1-å) * H * sum(sum(arcDistance[i,j] * sum(value.(X)[i,j,:] * øD + value.(Y)[i,j,:] * øH * ∂[i,j] + value.(Z)[i,j,:] * øD * ∂[i,j]) for j=1:n) for i=1:n)"
   ]
  },
  {
   "cell_type": "markdown",
   "metadata": {},
   "source": [
    "The distance traveled of all food going to a distribution hub:"
   ]
  },
  {
   "cell_type": "code",
   "execution_count": null,
   "metadata": {},
   "outputs": [],
   "source": [
    "sum(sum(arcDistance .* sum(value.(Y)[:,:,k] for k=1:p1), dims=1))"
   ]
  },
  {
   "attachments": {},
   "cell_type": "markdown",
   "metadata": {},
   "source": [
    "The total number of people left hungry over the course of the year; alternatively, the number of meals that aren't provided over the course of the year:"
   ]
  },
  {
   "cell_type": "code",
   "execution_count": null,
   "metadata": {},
   "outputs": [],
   "source": [
    "value.(ß)"
   ]
  },
  {
   "attachments": {},
   "cell_type": "markdown",
   "metadata": {},
   "source": [
    "The cost incurred by not feeding people based on the parameter set above:"
   ]
  },
  {
   "cell_type": "code",
   "execution_count": null,
   "metadata": {},
   "outputs": [],
   "source": [
    "inv(å) * value.(ß) * lambda"
   ]
  },
  {
   "cell_type": "markdown",
   "metadata": {},
   "source": [
    "The locations of distribution hubs for America's distribution:"
   ]
  },
  {
   "cell_type": "code",
   "execution_count": null,
   "metadata": {},
   "outputs": [],
   "source": [
    "betas = findall(x -> round(x) != 0, JuMP.value.(∂))"
   ]
  }
 ],
 "metadata": {
  "kernelspec": {
   "display_name": "Julia 1.8.2",
   "language": "julia",
   "name": "julia-1.8"
  },
  "language_info": {
   "file_extension": ".jl",
   "mimetype": "application/julia",
   "name": "julia",
   "version": "1.8.2"
  },
  "orig_nbformat": 4
 },
 "nbformat": 4,
 "nbformat_minor": 2
}
