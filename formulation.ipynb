{
 "cells": [
  {
   "cell_type": "code",
   "execution_count": 1,
   "metadata": {},
   "outputs": [],
   "source": [
    "using Gurobi, JuMP, DataFrames, CSV, Plots"
   ]
  },
  {
   "cell_type": "markdown",
   "metadata": {},
   "source": [
    "# Utility Function"
   ]
  },
  {
   "cell_type": "code",
   "execution_count": null,
   "metadata": {},
   "outputs": [],
   "source": [
    "function distance(x1, y1, x2, y2)\n",
    "    floatpointcorrection = sin(y1)*sin(y2) + cos(y1)*cos(y2)*cos(x1-x2)\n",
    "    floatpointcorrection = ifelse(floatpointcorrection > 1, 1.0, floatpointcorrection)\n",
    "    floatpointcorrection = ifelse(floatpointcorrection < 0, 0.0, floatpointcorrection)\n",
    "    ß = acos(floatpointcorrection)\n",
    "    return ß * 6371\n",
    "end;"
   ]
  },
  {
   "cell_type": "markdown",
   "metadata": {},
   "source": [
    "# Importing data, rough edits very quickly to clean it up"
   ]
  },
  {
   "cell_type": "code",
   "execution_count": 3,
   "metadata": {},
   "outputs": [],
   "source": [
    "data = CSV.read(\"./data/final_prod.csv\", DataFrame)\n",
    "select!(data, Not(:Column1))\n",
    "select!(data, Not([\"Area Abbreviation\", \"Area Code\", \"Unit\", \"Item Code\"]))\n",
    "data = data[data[:,7] .!= \"Miscellaneous\", :]\n",
    "data = data[data[:,7] .!= \"Aquatic Products, Other\", :]\n",
    "population = data[:, [:Area, :population]];\n",
    "food = data[1, 1:5];"
   ]
  },
  {
   "cell_type": "markdown",
   "metadata": {},
   "source": [
    "# Partitioning and formatting data for Gurobi"
   ]
  },
  {
   "cell_type": "code",
   "execution_count": 4,
   "metadata": {},
   "outputs": [],
   "source": [
    "demand = combine(groupby(data[!,1:6], :Area), first)\n",
    "for row in eachrow(demand)\n",
    "    row[:fats] = 365 * row[:fats]\n",
    "    row[:proteins] = 365 * row[:proteins]\n",
    "    row[:carbs] = 365 * row[:carbs]\n",
    "    row[:fruits_and_veggies] = 365 * row[:fruits_and_veggies]\n",
    "end\n",
    "demand = Matrix(demand[:,2:5]);"
   ]
  },
  {
   "cell_type": "code",
   "execution_count": 5,
   "metadata": {},
   "outputs": [],
   "source": [
    "loc = unique(data[!,[6,8,9]]);"
   ]
  },
  {
   "cell_type": "code",
   "execution_count": 6,
   "metadata": {},
   "outputs": [],
   "source": [
    "supply = data[:,[6,7,10]]\n",
    "supplyT = DataFrame(zeros((length(unique(supply[:,1])), length(unique(supply[:,2])))), :auto)\n",
    "rename!(supplyT, unique(supply[:,2]));\n",
    "supplyg = groupby(supply, :Area)\n",
    "for i in 1:168\n",
    "    for row in eachrow(supplyg[i])\n",
    "        supplyT[i, Symbol(row[2])] = row[3]\n",
    "    end\n",
    "end"
   ]
  },
  {
   "cell_type": "code",
   "execution_count": null,
   "metadata": {},
   "outputs": [],
   "source": [
    "inverse_populations = inv.(unique(population)[!,2])\n",
    "weighting = CSV.read(\"./data/weighting.csv\", DataFrame)\n",
    "weighting = Matrix(weighting[:,2:end])\n",
    "n,p1 = size(supplyT)\n",
    "n,p2 = size(demand)\n",
    "lambda = 250*365;\n",
    "arcDistance = DataFrame(zeros(n, n), :auto)\n",
    "for i in 1:168\n",
    "    for j in 1:168\n",
    "        arcDistance[i, j] = distance(loc[i,2], loc[i,3], loc[j,2], loc[j,3])\n",
    "    end\n",
    "end\n",
    "arcDistance = Matrix(round.(arcDistance, digits=7));"
   ]
  },
  {
   "cell_type": "markdown",
   "metadata": {},
   "source": [
    "# Optimization"
   ]
  },
  {
   "cell_type": "code",
   "execution_count": 12,
   "metadata": {},
   "outputs": [
    {
     "data": {
      "text/plain": [
       "1"
      ]
     },
     "metadata": {},
     "output_type": "display_data"
    }
   ],
   "source": [
    "å=1"
   ]
  },
  {
   "cell_type": "markdown",
   "metadata": {},
   "source": [
    "Think of å as the proportion of importance placed on the cost of people going hungry relative to the cost of transportation. (i.e., we only consider transportation cost at 10% the magnitude to which we care feeding people)"
   ]
  },
  {
   "cell_type": "code",
   "execution_count": 13,
   "metadata": {},
   "outputs": [],
   "source": [
    "model = Model(Gurobi.Optimizer )\n",
    "@variable(model, X[i=1:n,j=1:n,k=1:p1] .≥ 0)\n",
    "@variable(model, ß ≥ 0, integer=true)\n",
    "@constraint(model, realSupply[i=1:n,k=1:p1], sum(X[i,j,k] for j=1:n) ≤ abs.(supplyT)[i,k])\n",
    "@constraint(model, auxiliary, ß ≥ inverse_populations' * (demand - sum(X[i,:,:] for i=1:n) * 9072000 * weighting) * [1/41.3, 1/107.38, 1/37.9961, 1/330.4])\n",
    "@constraint(model, realDemand, sum(X[i,:,:] for i=1:n) * 9072000 * weighting .≤ demand)\n",
    "@objective(model, Min, (1-å) * sum(sum(arcDistance .* sum(X[:,:,k] for k=1:p1), dims=1)) + (å) * ß * lambda)\n",
    "optimize!(model)"
   ]
  },
  {
   "cell_type": "code",
   "execution_count": 11,
   "metadata": {},
   "outputs": [
    {
     "data": {
      "text/plain": [
       "140.0"
      ]
     },
     "metadata": {},
     "output_type": "display_data"
    }
   ],
   "source": [
    "JuMP.value.(ß)"
   ]
  },
  {
   "cell_type": "code",
   "execution_count": null,
   "metadata": {},
   "outputs": [],
   "source": [
    "JuMP.value.(ß)"
   ]
  },
  {
   "cell_type": "code",
   "execution_count": null,
   "metadata": {},
   "outputs": [],
   "source": [
    "sum(sum(arcDistance .* sum(X[:,:,k] for k=1:p1), dims=1))"
   ]
  }
 ],
 "metadata": {
  "kernelspec": {
   "display_name": "Julia 1.8.2",
   "language": "julia",
   "name": "julia-1.8"
  },
  "language_info": {
   "file_extension": ".jl",
   "mimetype": "application/julia",
   "name": "julia",
   "version": "1.8.2"
  },
  "orig_nbformat": 4
 },
 "nbformat": 4,
 "nbformat_minor": 2
}
