{
 "cells": [
  {
   "cell_type": "code",
   "execution_count": 1,
   "metadata": {},
   "outputs": [],
   "source": [
    "using Gurobi, JuMP, DataFrames, CSV, Plots"
   ]
  },
  {
   "cell_type": "markdown",
   "metadata": {},
   "source": [
    "# Utility Function"
   ]
  },
  {
   "cell_type": "code",
   "execution_count": 11,
   "metadata": {},
   "outputs": [],
   "source": [
    "function distance(x1, y1, x2, y2)\n",
    "    floatpointcorrection = sin(y1)*sin(y2) + cos(y1)*cos(y2)*cos(x1-x2)\n",
    "    floatpointcorrection = ifelse(floatpointcorrection > 1, 1.0, floatpointcorrection)\n",
    "    floatpointcorrection = ifelse(floatpointcorrection < -1, -1.0, floatpointcorrection)\n",
    "    ß = acos(floatpointcorrection)\n",
    "    return ß * 6378.1\n",
    "end;"
   ]
  },
  {
   "cell_type": "markdown",
   "metadata": {},
   "source": [
    "# Importing data, rough edits very quickly to clean it up"
   ]
  },
  {
   "cell_type": "code",
   "execution_count": 3,
   "metadata": {},
   "outputs": [],
   "source": [
    "data = CSV.read(\"./data/final_prod.csv\", DataFrame)\n",
    "select!(data, Not(:Column1))\n",
    "select!(data, Not([\"Area Abbreviation\", \"Area Code\", \"Unit\", \"Item Code\"]))\n",
    "data = data[data[:,7] .!= \"Miscellaneous\", :]\n",
    "data = data[data[:,7] .!= \"Aquatic Products, Other\", :]\n",
    "population = data[:, [:Area, :population]];\n",
    "food = data[1, 1:5];"
   ]
  },
  {
   "cell_type": "markdown",
   "metadata": {},
   "source": [
    "# Partitioning and formatting data for Gurobi"
   ]
  },
  {
   "cell_type": "code",
   "execution_count": 4,
   "metadata": {},
   "outputs": [],
   "source": [
    "demand = combine(groupby(data[!,1:6], :Area), first)\n",
    "for row in eachrow(demand)\n",
    "    row[:fats] = 365 * row[:fats]\n",
    "    row[:proteins] = 365 * row[:proteins]\n",
    "    row[:carbs] = 365 * row[:carbs]\n",
    "    row[:fruits_and_veggies] = 365 * row[:fruits_and_veggies]\n",
    "end\n",
    "demand = Matrix(demand[:,2:5]);"
   ]
  },
  {
   "cell_type": "code",
   "execution_count": 5,
   "metadata": {},
   "outputs": [],
   "source": [
    "loc = unique(data[!,[6,8,9]]);"
   ]
  },
  {
   "cell_type": "code",
   "execution_count": 6,
   "metadata": {},
   "outputs": [],
   "source": [
    "supply = data[:,[6,7,10]]\n",
    "supplyT = DataFrame(zeros((length(unique(supply[:,1])), length(unique(supply[:,2])))), :auto)\n",
    "rename!(supplyT, unique(supply[:,2]));\n",
    "supplyg = groupby(supply, :Area)\n",
    "for i in 1:168\n",
    "    for row in eachrow(supplyg[i])\n",
    "        supplyT[i, Symbol(row[2])] = row[3]\n",
    "    end\n",
    "end"
   ]
  },
  {
   "cell_type": "code",
   "execution_count": 12,
   "metadata": {},
   "outputs": [],
   "source": [
    "inverse_populations = inv.(unique(population)[!,2])\n",
    "weighting = CSV.read(\"./data/weighting.csv\", DataFrame)\n",
    "weighting = Matrix(weighting[:,2:end])\n",
    "n,p1 = size(supplyT)\n",
    "n,p2 = size(demand)\n",
    "lambda = 250*365;\n",
    "arcDistance = DataFrame(zeros(n, n), :auto)\n",
    "for i in 1:168\n",
    "    for j in 1:168\n",
    "        arcDistance[i, j] = distance(loc[i,2], loc[i,3], loc[j,2], loc[j,3])\n",
    "    end\n",
    "end\n",
    "arcDistance = Matrix(round.(arcDistance, digits=7));"
   ]
  },
  {
   "cell_type": "code",
   "execution_count": 14,
   "metadata": {},
   "outputs": [
    {
     "data": {
      "text/plain": [
       "50"
      ]
     },
     "metadata": {},
     "output_type": "display_data"
    }
   ],
   "source": [
    "using Random\n",
    "supply_uncertainty = randn!(MersenneTwister(1234), zeros(50, 168, 74))\n",
    "supply_uncertainty = round.(abs.(supply_uncertainty .* inv.(maximum(abs.(supply_uncertainty)))) .* 0.6 .+ 0.9, digits=4)\n",
    "demand_uncertainty = randn!(MersenneTwister(1234), zeros(50, 168, 4))\n",
    "demand_uncertainty = round.(abs.(demand_uncertainty .* inv.(maximum(abs.(demand_uncertainty)))) .* 0.6 .+ 0.9, digits=4);\n",
    "uncertainty=50"
   ]
  },
  {
   "cell_type": "markdown",
   "metadata": {},
   "source": [
    "# Optimization"
   ]
  },
  {
   "cell_type": "code",
   "execution_count": 15,
   "metadata": {},
   "outputs": [
    {
     "data": {
      "text/plain": [
       "0.55"
      ]
     },
     "metadata": {},
     "output_type": "display_data"
    }
   ],
   "source": [
    "øD = 1 # relative scaling of price per unit when transporting to directly\n",
    "øH = 0.6 # relative scaling of price per unit when transporting to a central hub as a point of distribution\n",
    "threshold = 200 # capacity of 10 Boeing 747-400Fs\n",
    "H = 78.91 # price of per km per metric tonne transport via a Boeing 747-400F\n",
    "å = 0.55 # relative importance between the two objectives"
   ]
  },
  {
   "cell_type": "code",
   "execution_count": 16,
   "metadata": {},
   "outputs": [
    {
     "name": "stdout",
     "output_type": "stream",
     "text": [
      "Set parameter Username\n",
      "Academic license - for non-commercial use only - expires 2023-08-18\n",
      "Set parameter TimeLimit to value 60\n"
     ]
    },
    {
     "ename": "InterruptException",
     "evalue": "InterruptException:",
     "output_type": "error",
     "traceback": [
      "InterruptException:\n",
      "\n",
      "Stacktrace:\n",
      "  [1] OrderedCollections.OrderedDict{VariableRef, Float64}()\n",
      "    @ OrderedCollections /Applications/Julia-1.8.app/Contents/Resources/julia/lib/julia/sys.dylib:-1\n",
      "  [2] _build_aff_expr(constant::Float64, coef1::Float64, var1::VariableRef, coef2::Float64, var2::VariableRef)\n",
      "    @ JuMP /Applications/Julia-1.8.app/Contents/Resources/julia/lib/julia/sys.dylib:-1\n",
      "  [3] +\n",
      "    @ /Users/iai/builds/InterpretableAI/SystemImage/SysImgBuilder/.julia/packages/JuMP/gVq7V/src/operators.jl:80 [inlined]\n",
      "  [4] _broadcast_getindex_evalf\n",
      "    @ ./broadcast.jl:670 [inlined]\n",
      "  [5] _broadcast_getindex\n",
      "    @ ./broadcast.jl:643 [inlined]\n",
      "  [6] getindex\n",
      "    @ ./broadcast.jl:597 [inlined]\n",
      "  [7] macro expansion\n",
      "    @ ./broadcast.jl:961 [inlined]\n",
      "  [8] macro expansion\n",
      "    @ ./simdloop.jl:77 [inlined]\n",
      "  [9] copyto!\n",
      "    @ ./broadcast.jl:960 [inlined]\n",
      " [10] copyto!\n",
      "    @ ./broadcast.jl:913 [inlined]\n",
      " [11] copy\n",
      "    @ ./broadcast.jl:885 [inlined]\n",
      " [12] materialize(bc::Base.Broadcast.Broadcasted{Base.Broadcast.DefaultArrayStyle{3}, Nothing, typeof(+), Tuple{Array{VariableRef, 3}, Array{VariableRef, 3}}})\n",
      "    @ Base.Broadcast ./broadcast.jl:860\n",
      " [13] macro expansion\n",
      "    @ /Users/iai/builds/InterpretableAI/SystemImage/SysImgBuilder/.julia/packages/MutableArithmetics/maUDe/src/rewrite.jl:294 [inlined]\n",
      " [14] macro expansion\n",
      "    @ /Users/iai/builds/InterpretableAI/SystemImage/SysImgBuilder/.julia/packages/JuMP/gVq7V/src/macros.jl:819 [inlined]\n",
      " [15] (::var\"#35#36\")(z::Int64)\n",
      "    @ Main /Users/iai/builds/InterpretableAI/SystemImage/SysImgBuilder/.julia/packages/JuMP/gVq7V/src/Containers/macro.jl:304\n",
      " [16] #42\n",
      "    @ /Users/iai/builds/InterpretableAI/SystemImage/SysImgBuilder/.julia/packages/JuMP/gVq7V/src/Containers/container.jl:72 [inlined]\n",
      " [17] iterate\n",
      "    @ ./generator.jl:47 [inlined]\n",
      " [18] collect(itr::Base.Generator{JuMP.Containers.VectorizedProductIterator{Tuple{Base.OneTo{Int64}}}, JuMP.Containers.var\"#42#43\"{var\"#35#36\"}})\n",
      "    @ Base ./array.jl:787\n",
      " [19] map(f::Function, A::JuMP.Containers.VectorizedProductIterator{Tuple{Base.OneTo{Int64}}})\n",
      "    @ Base ./abstractarray.jl:2961\n",
      " [20] container\n",
      "    @ /Users/iai/builds/InterpretableAI/SystemImage/SysImgBuilder/.julia/packages/JuMP/gVq7V/src/Containers/container.jl:72 [inlined]\n",
      " [21] container(f::Function, indices::JuMP.Containers.VectorizedProductIterator{Tuple{Base.OneTo{Int64}}})\n",
      "    @ JuMP.Containers /Users/iai/builds/InterpretableAI/SystemImage/SysImgBuilder/.julia/packages/JuMP/gVq7V/src/Containers/container.jl:66\n",
      " [22] eval\n",
      "    @ ./boot.jl:368 [inlined]\n",
      " [23] include_string(mapexpr::typeof(REPL.softscope), mod::Module, code::String, filename::String)\n",
      "    @ Base ./loading.jl:1428\n",
      " [24] #invokelatest#2\n",
      "    @ ./essentials.jl:729 [inlined]\n",
      " [25] invokelatest\n",
      "    @ ./essentials.jl:726 [inlined]\n",
      " [26] (::VSCodeServer.var\"#198#199\"{VSCodeServer.NotebookRunCellArguments, String})()\n",
      "    @ VSCodeServer ~/.vscode/extensions/julialang.language-julia-1.38.2/scripts/packages/VSCodeServer/src/serve_notebook.jl:19\n",
      " [27] withpath(f::VSCodeServer.var\"#198#199\"{VSCodeServer.NotebookRunCellArguments, String}, path::String)\n",
      "    @ VSCodeServer ~/.vscode/extensions/julialang.language-julia-1.38.2/scripts/packages/VSCodeServer/src/repl.jl:249\n",
      " [28] notebook_runcell_request(conn::VSCodeServer.JSONRPC.JSONRPCEndpoint{Base.PipeEndpoint, Base.PipeEndpoint}, params::VSCodeServer.NotebookRunCellArguments)\n",
      "    @ VSCodeServer ~/.vscode/extensions/julialang.language-julia-1.38.2/scripts/packages/VSCodeServer/src/serve_notebook.jl:13\n",
      " [29] dispatch_msg(x::VSCodeServer.JSONRPC.JSONRPCEndpoint{Base.PipeEndpoint, Base.PipeEndpoint}, dispatcher::VSCodeServer.JSONRPC.MsgDispatcher, msg::Dict{String, Any})\n",
      "    @ VSCodeServer.JSONRPC ~/.vscode/extensions/julialang.language-julia-1.38.2/scripts/packages/JSONRPC/src/typed.jl:67\n",
      " [30] serve_notebook(pipename::String, outputchannel_logger::Base.CoreLogging.SimpleLogger; crashreporting_pipename::String)\n",
      "    @ VSCodeServer ~/.vscode/extensions/julialang.language-julia-1.38.2/scripts/packages/VSCodeServer/src/serve_notebook.jl:139\n",
      " [31] top-level scope\n",
      "    @ ~/.vscode/extensions/julialang.language-julia-1.38.2/scripts/notebook/notebook.jl:32"
     ]
    }
   ],
   "source": [
    "model = Model(Gurobi.Optimizer)\n",
    "set_time_limit_sec(model, 60.0)\n",
    "@variable(model, X[i=1:n,j=1:n,k=1:p1] .≥ 0)\n",
    "@variable(model, Y[i=1:n,j=1:n,k=1:p1] .≥ 0)\n",
    "@variable(model, Z[i=1:n,j=1:n,k=1:p1] .≥ 0)\n",
    "@variable(model, ∂[i=1:n,j=1:n], binary=true)\n",
    "@variable(model, ß ≥ 0)\n",
    "@constraint(model, hubIndicator1[i=1:n], sum(∂[i,:]) .≤ 5)\n",
    "@constraint(model, hubIndicator2, 5000000 * ∂ .≥ sum(Y[:,:,k] for k in 1:p1))\n",
    "@constraint(model, realSupply[z=1:uncertainty], sum((X .+ Y)[:,l,:] for l=1:n) .≤ abs.(Matrix(supplyT) .* supply_uncertainty[z,:,:]))\n",
    "@constraint(model, auxiliary[z=1:uncertainty], ß ≥ inverse_populations' * (Matrix(demand) .* demand_uncertainty[z,:,:] - 10000000 * sum((X+Z)[l,:,:] for l=1:n) * weighting) * inv.([41.3, 107.38, 37.9961, 330.4]))\n",
    "@constraint(model, hubIndicator, ∂ .≤ inv(threshold) .* sum((Y+Z+X)[:,:,k] for k=1:p1))\n",
    "@constraint(model,hubEquality[l=1:n,k=1:p1], sum(Y[i,l,k] for i = 1:n) .== sum(Z[l,i,k] for i = 1:n))\n",
    "@objective(model, Min, (1-å) * H * sum(sum(arcDistance .* sum((øD * X + Y * øH .* ∂ + øD * Z .* ∂)[i,j,:]) for j=1:n) for i=1:n) + (å) * ß * lambda)\n",
    "optimize!(model)"
   ]
  },
  {
   "cell_type": "code",
   "execution_count": null,
   "metadata": {},
   "outputs": [],
   "source": [
    "model = Model(Gurobi.Optimizer)\n",
    "set_time_limit_sec(model, 60.0)\n",
    "@variable(model, X[i=1:n,j=1:n,k=1:p1] .≥ 0)\n",
    "@variable(model, ß ≥ 0)\n",
    "@constraint(model, realSupply[z=1:uncertainty], sum(X[:,l,:] for l=1:n) .≤ abs.(Matrix(supplyT) .* supply_uncertainty[z,:,:]))\n",
    "@constraint(model, auxiliary[z=1:uncertainty], ß ≥ inverse_populations' * (Matrix(demand) .* demand_uncertainty[z,:,:] - 10000000 * sum((X+Z)[l,:,:] for l=1:n) * weighting) * inv.([41.3, 107.38, 37.9961, 330.4]))\n",
    "@objective(model, Min, (1-å) * H * sum(sum(arcDistance .* sum(X[i,j,:]) for j=1:n) for i=1:n) + (å) * ß * lambda)\n",
    "optimize!(model)"
   ]
  },
  {
   "cell_type": "code",
   "execution_count": 21,
   "metadata": {},
   "outputs": [
    {
     "name": "stdout",
     "output_type": "stream",
     "text": [
      "Set parameter Username\n",
      "Academic license - for non-commercial use only - expires 2023-08-18\n",
      "Set parameter TimeLimit to value 60\n"
     ]
    },
    {
     "ename": "InterruptException",
     "evalue": "InterruptException:",
     "output_type": "error",
     "traceback": [
      "InterruptException:\n",
      "\n",
      "Stacktrace:\n",
      "  [1] Array\n",
      "    @ ./boot.jl:461 [inlined]\n",
      "  [2] Array\n",
      "    @ ./boot.jl:469 [inlined]\n",
      "  [3] similar\n",
      "    @ ./array.jl:378 [inlined]\n",
      "  [4] similar\n",
      "    @ ./abstractarray.jl:795 [inlined]\n",
      "  [5] _unsafe_getindex(::IndexLinear, ::Matrix{Float64}, ::UnitRange{Int64}, ::UnitRange{Int64})\n",
      "    @ Base ./multidimensional.jl:887\n",
      "  [6] _getindex\n",
      "    @ ./multidimensional.jl:875 [inlined]\n",
      "  [7] getindex(::Matrix{Float64}, ::UnitRange{Int64}, ::UnitRange{Int64})\n",
      "    @ Base ./abstractarray.jl:1241\n",
      "  [8] macro expansion\n",
      "    @ /Users/iai/builds/InterpretableAI/SystemImage/SysImgBuilder/.julia/packages/MutableArithmetics/maUDe/src/rewrite.jl:294 [inlined]\n",
      "  [9] macro expansion\n",
      "    @ /Users/iai/builds/InterpretableAI/SystemImage/SysImgBuilder/.julia/packages/JuMP/gVq7V/src/macros.jl:1280 [inlined]\n",
      " [10] top-level scope\n",
      "    @ ~/Documents/MIT/courses/F15.093/TermProject/formulation.ipynb:7"
     ]
    }
   ],
   "source": [
    "model = Model(Gurobi.Optimizer)\n",
    "set_time_limit_sec(model, 60.0)\n",
    "@variable(model, X[i=1:40,j=1:40,k=1:74] .≥ 0)\n",
    "@variable(model, ß ≥ 0, integer=true)\n",
    "@constraint(model, realSupply, sum(X[:,l,:] for l=1:40) .≤ abs.(Matrix(supplyT)[1:40,:]))\n",
    "@constraint(model, auxiliary, ß ≥ inverse_populations[1:40]' * (Matrix(demand)[1:40,:] .* 0.7 - sum(X[l,:,:] for l=1:40) * weighting) * inv.([41.3, 107.38, 37.9961, 330.4]))\n",
    "@objective(model, Min, (1-å) * H * sum(sum(arcDistance[1:40,1:40] .* sum(X[i,j,:]) for j=1:40) for i=1:40) + (å) * ß * lambda)\n",
    "optimize!(model)"
   ]
  },
  {
   "cell_type": "markdown",
   "metadata": {},
   "source": [
    "### Analysis"
   ]
  },
  {
   "cell_type": "markdown",
   "metadata": {},
   "source": [
    "The total distance traveled of all food:"
   ]
  },
  {
   "cell_type": "code",
   "execution_count": null,
   "metadata": {},
   "outputs": [],
   "source": [
    "value.(ß)"
   ]
  },
  {
   "cell_type": "code",
   "execution_count": 46,
   "metadata": {},
   "outputs": [
    {
     "data": {
      "text/plain": [
       "0.0"
      ]
     },
     "metadata": {},
     "output_type": "display_data"
    }
   ],
   "source": [
    "# sum(sum(arcDistance .* sum((X + Y + Z )[i,j,:]) for j=1:n) for i=1:n)\n",
    "sum(sum(arcDistance[:5,:5] .* sum(value.(X)[i,j,:]) for j=1:5) for i=1:5)"
   ]
  },
  {
   "cell_type": "markdown",
   "metadata": {},
   "source": [
    "The total calculated transportation cost of all food items:"
   ]
  },
  {
   "cell_type": "code",
   "execution_count": null,
   "metadata": {},
   "outputs": [],
   "source": [
    "inv(1-å) * H * sum(sum(arcDistance[i,j] * sum(value.(X)[i,j,:] * øD + value.(Y)[i,j,:] * øH * ∂[i,j] + value.(Z)[i,j,:] * øD * ∂[i,j]) for j=1:n) for i=1:n)"
   ]
  },
  {
   "cell_type": "markdown",
   "metadata": {},
   "source": [
    "The distance traveled of all food going to a distribution hub:"
   ]
  },
  {
   "cell_type": "code",
   "execution_count": null,
   "metadata": {},
   "outputs": [],
   "source": [
    "sum(sum(arcDistance .* sum(value.(Y)[:,:,k] for k=1:p1), dims=1))"
   ]
  },
  {
   "cell_type": "markdown",
   "metadata": {},
   "source": [
    "The total number of people left hungry over the course of the year:"
   ]
  },
  {
   "cell_type": "code",
   "execution_count": null,
   "metadata": {},
   "outputs": [],
   "source": [
    "value.(ß)"
   ]
  },
  {
   "cell_type": "markdown",
   "metadata": {},
   "source": [
    "The cost incurred by not feeding people:"
   ]
  },
  {
   "cell_type": "code",
   "execution_count": null,
   "metadata": {},
   "outputs": [],
   "source": [
    "inv(å) * value.(ß) * lambda"
   ]
  },
  {
   "cell_type": "markdown",
   "metadata": {},
   "source": [
    "The locations of distribution hubs for America's distribution:"
   ]
  },
  {
   "cell_type": "code",
   "execution_count": null,
   "metadata": {},
   "outputs": [],
   "source": [
    "betas = findall(x -> round(x) != 0, JuMP.value.(∂))\n"
   ]
  }
 ],
 "metadata": {
  "kernelspec": {
   "display_name": "Julia 1.8.2",
   "language": "julia",
   "name": "julia-1.8"
  },
  "language_info": {
   "file_extension": ".jl",
   "mimetype": "application/julia",
   "name": "julia",
   "version": "1.8.2"
  },
  "orig_nbformat": 4
 },
 "nbformat": 4,
 "nbformat_minor": 2
}
