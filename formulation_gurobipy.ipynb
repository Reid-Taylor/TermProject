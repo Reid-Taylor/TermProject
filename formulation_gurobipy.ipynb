{
 "cells": [
  {
   "attachments": {},
   "cell_type": "markdown",
   "id": "9b33f4e4",
   "metadata": {},
   "source": [
    "# Concise Formulation\n",
    "### This code will formulate the MIP using Gurobi in Python. This has been edited from the version found in `formulation.ipynb` to provide the most concise formulation possible, while preserving the functionality needed."
   ]
  },
  {
   "cell_type": "code",
   "execution_count": 1,
   "id": "47859a75-a1c0-4a8e-8b9b-313b9651cd20",
   "metadata": {},
   "outputs": [],
   "source": [
    "import pandas as pd\n",
    "from shapely.geometry import Point\n",
    "import geopandas as gp\n",
    "from geopandas import GeoDataFrame\n",
    "import time\n",
    "import gurobipy as gp\n",
    "import numpy as np"
   ]
  },
  {
   "attachments": {},
   "cell_type": "markdown",
   "id": "bafa517b",
   "metadata": {},
   "source": [
    "## Parameters"
   ]
  },
  {
   "cell_type": "code",
   "execution_count": 132,
   "id": "a2621727-a5ea-4007-8591-87f284b671a6",
   "metadata": {},
   "outputs": [],
   "source": [
    "G = 10000000\n",
    "H = 78.91\n",
    "alpha = 0.075\n",
    "hub= 0.6\n",
    "lamb = 250 * 365\n",
    "n = 168\n",
    "p = 74\n",
    "q = 8\n",
    "K = 74\n",
    "uncertainty = 50\n",
    "inverse_foods = [1/41.3, 1/107.38, 1/37.9961, 1/330.4]\n",
    "NUM_HUBS = 8"
   ]
  },
  {
   "attachments": {},
   "cell_type": "markdown",
   "id": "7f391254",
   "metadata": {},
   "source": [
    "## Data"
   ]
  },
  {
   "cell_type": "code",
   "execution_count": 133,
   "id": "4d5e3ebe-43a2-4c6f-aa82-822385ca247e",
   "metadata": {},
   "outputs": [],
   "source": [
    "arcDistance = pd.read_csv(\"./arcDistance.csv\").iloc[0:168,:]\n",
    "demand = pd.read_csv(\"./demand.csv\").iloc[0:168,:]\n",
    "supply = pd.read_csv(\"./supplyT.csv\").iloc[0:168,:]\n",
    "weighting = pd.read_csv(\"./weighting.csv\")\n",
    "inverse = pd.read_csv(\"./inverse_populations.csv\").iloc[0:168,:]"
   ]
  },
  {
   "attachments": {},
   "cell_type": "markdown",
   "id": "a44195d6",
   "metadata": {},
   "source": [
    "## Constraint Formulation"
   ]
  },
  {
   "cell_type": "code",
   "execution_count": 142,
   "id": "36a4a49f-e555-4098-bc05-937191ea18ae",
   "metadata": {},
   "outputs": [
    {
     "name": "stdout",
     "output_type": "stream",
     "text": [
      "0 -- 0.55 seconds\n",
      "25 -- 12.51 seconds\n",
      "50 -- 12.02 seconds\n",
      "75 -- 12.03 seconds\n",
      "100 -- 12.05 seconds\n",
      "125 -- 12.05 seconds\n",
      "150 -- 12.08 seconds\n"
     ]
    }
   ],
   "source": [
    "model = gp.Model()\n",
    "\n",
    "# model = gp.read(\"out.mps\")\n",
    "\n",
    "X = model.addMVar((n, n, p), lb=0)\n",
    "Y = model.addMVar((n, NUM_HUBS, p), lb=0)\n",
    "Z = model.addMVar((NUM_HUBS, n, p), lb=0)\n",
    "beta = model.addVar(lb=0, vtype=gp.GRB.INTEGER)\n",
    "\n",
    "lasttime = time.time()\n",
    "\n",
    "for i in range(n):\n",
    "    for k in range(p):\n",
    "        if i < 8:\n",
    "            model.addConstr(( sum(Y[:,i,k]) == sum(Z[i,:,k]) ))\n",
    "        model.addConstr((sum(X[i,:,k]) + sum(Y[i,:,k]) <= abs(0.80 * supply.iloc[i,k])))\n",
    "        for j in range(4):\n",
    "            model.addConstr(( G * (sum(X[:,i,k]) + sum(Z[:,i,k])) * np.array(weighting)[k,j] <= abs(1.2 * demand.iloc[i,j])))\n",
    "            model.addConstr((np.array(inverse)[i,0] * (np.array(demand)[i,j] - G * (sum(X[:,i,k]) + sum(Z[:,i,k])) * np.array(weighting)[k,j]) * np.array(inverse_foods)[j] <= beta))\n",
    "        \n",
    "    if i % 25 == 0:\n",
    "        laptime = round((time.time() - lasttime), 2)\n",
    "        print(f\"{i} -- {str(laptime)} seconds\")\n",
    "        model.write(\"out.mps\")\n",
    "        lasttime = time.time()\n",
    "\n",
    "model.write(\"out.mps\")"
   ]
  },
  {
   "cell_type": "markdown",
   "id": "df29f8a6-bcfb-43ce-a282-efa30fe73149",
   "metadata": {},
   "source": [
    "156"
   ]
  },
  {
   "attachments": {},
   "cell_type": "markdown",
   "id": "1b3da3d6",
   "metadata": {},
   "source": [
    "## Objective"
   ]
  },
  {
   "cell_type": "code",
   "execution_count": 143,
   "id": "5eb724e0-7051-41e2-8850-85f39f60dfb2",
   "metadata": {},
   "outputs": [],
   "source": [
    "objective = 0 \n",
    "\n",
    "for i in range(168):\n",
    "    for l in range(168):\n",
    "        objective += arcDistance.iloc[i,l] * sum(X[i,l,:])\n",
    "    for l in range(8):\n",
    "        objective += arcDistance.iloc[i,l+168] * sum(Y[i,l,:]) * hub\n",
    "        objective += arcDistance.iloc[i,l+168] * sum(Z[l,i,:])\n",
    "    for k in range(p):\n",
    "        for j in range(4):\n",
    "            objective += 10478.822133354273 * (np.array(demand)[i,j] - G * (sum(X[:,i,k]) + sum(Z[:,i,k])) * np.array(weighting)[k,j])\n",
    "\n",
    "# objective = objective * alpha * H\n",
    "# objective += (1-alpha) * beta * lamb"
   ]
  },
  {
   "attachments": {},
   "cell_type": "markdown",
   "id": "ab0536ca",
   "metadata": {},
   "source": [
    "## Optimization"
   ]
  },
  {
   "cell_type": "code",
   "execution_count": 144,
   "id": "7afbcc02-5aa1-4bca-9353-5b88cf697014",
   "metadata": {},
   "outputs": [
    {
     "name": "stdout",
     "output_type": "stream",
     "text": [
      "Gurobi Optimizer version 9.5.2 build v9.5.2rc0 (linux64)\n",
      "Thread count: 28 physical cores, 56 logical processors, using up to 28 threads\n",
      "Optimize a model with 112480 rows, 2287489 columns and 13790784 nonzeros\n",
      "Model fingerprint: 0xe13e8982\n",
      "Variable types: 2287488 continuous, 1 integer (0 binary)\n",
      "Coefficient statistics:\n",
      "  Matrix range     [7e-06, 1e+09]\n",
      "  Objective range  [2e+02, 2e+13]\n",
      "  Bounds range     [0e+00, 0e+00]\n",
      "  RHS range        [8e-01, 2e+14]\n",
      "Warning: Model contains large matrix coefficient range\n",
      "Warning: Model contains large objective coefficients\n",
      "Warning: Model contains large rhs\n",
      "         Consider reformulating model or setting NumericFocus parameter\n",
      "         to avoid numerical issues.\n",
      "Found heuristic solution: objective 1.118246e+21\n",
      "Presolve removed 78539 rows and 627905 columns (presolve time = 5s) ...\n",
      "Presolve removed 89406 rows and 1016074 columns (presolve time = 10s) ...\n",
      "Presolve removed 94265 rows and 1124517 columns (presolve time = 15s) ...\n",
      "Presolve removed 108797 rows and 1994865 columns (presolve time = 46s) ...\n",
      "Presolve removed 108797 rows and 1994865 columns (presolve time = 50s) ...\n",
      "Presolve removed 108797 rows and 1994865 columns\n",
      "Presolve time: 52.91s\n",
      "Presolved: 3683 rows, 292624 columns, 585248 nonzeros\n",
      "Found heuristic solution: objective 1.097394e+21\n",
      "Variable types: 292624 continuous, 0 integer (0 binary)\n",
      "\n",
      "Root simplex log...\n",
      "\n",
      "Iteration    Objective       Primal Inf.    Dual Inf.      Time\n",
      "       0    7.7398925e+20   1.309459e+10   0.000000e+00     64s\n",
      "    1884    1.0550881e+21   1.957565e+09   0.000000e+00     65s\n",
      "   11543    1.0762514e+21   0.000000e+00   0.000000e+00     67s\n",
      "\n",
      "Root relaxation: objective 1.076251e+21, 11543 iterations, 5.31 seconds (0.21 work units)\n",
      "\n",
      "    Nodes    |    Current Node    |     Objective Bounds      |     Work\n",
      " Expl Unexpl |  Obj  Depth IntInf | Incumbent    BestBd   Gap | It/Node Time\n",
      "\n",
      "*    0     0               0    1.076251e+21 1.0763e+21  0.00%     -   67s\n",
      "\n",
      "Explored 1 nodes (11545 simplex iterations) in 77.88 seconds (14.72 work units)\n",
      "Thread count was 28 (of 56 available processors)\n",
      "\n",
      "Solution count 2: 1.07625e+21 1.11825e+21 \n",
      "\n",
      "Optimal solution found (tolerance 1.00e-04)\n",
      "Warning: max constraint violation (6.1035e-05) exceeds tolerance\n",
      "Best objective 1.076251368515e+21, best bound 1.076251368515e+21, gap 0.0000%\n"
     ]
    }
   ],
   "source": [
    "# model = gp.read(\"out.mps\")\n",
    "model.setObjective(objective, gp.GRB.MINIMIZE)\n",
    "model.optimize()"
   ]
  },
  {
   "attachments": {},
   "cell_type": "markdown",
   "id": "178bb866",
   "metadata": {},
   "source": [
    "## Results"
   ]
  },
  {
   "cell_type": "code",
   "execution_count": 145,
   "id": "2effce99-899a-4f65-9f64-dfb18e835f99",
   "metadata": {},
   "outputs": [
    {
     "data": {
      "text/plain": [
       "4917536.722139654"
      ]
     },
     "execution_count": 145,
     "metadata": {},
     "output_type": "execute_result"
    }
   ],
   "source": [
    "np.sum(np.sum(X.X))"
   ]
  },
  {
   "cell_type": "code",
   "execution_count": 146,
   "id": "d9d9344a-533f-4f3e-8756-f49d8708ef79",
   "metadata": {},
   "outputs": [
    {
     "data": {
      "text/plain": [
       "278147.59148128016"
      ]
     },
     "execution_count": 146,
     "metadata": {},
     "output_type": "execute_result"
    }
   ],
   "source": [
    "np.sum(np.sum(Y.X))"
   ]
  },
  {
   "cell_type": "code",
   "execution_count": 147,
   "id": "0862680a-0023-4c23-b287-db7d21ad6d5e",
   "metadata": {},
   "outputs": [
    {
     "data": {
      "text/plain": [
       "278147.5914812801"
      ]
     },
     "execution_count": 147,
     "metadata": {},
     "output_type": "execute_result"
    }
   ],
   "source": [
    "np.sum(np.sum(Z.X))"
   ]
  },
  {
   "cell_type": "code",
   "execution_count": 148,
   "id": "89f3098b-97d5-42c0-9b26-6b35bb22cd48",
   "metadata": {},
   "outputs": [
    {
     "data": {
      "text/plain": [
       "456.0"
      ]
     },
     "execution_count": 148,
     "metadata": {},
     "output_type": "execute_result"
    }
   ],
   "source": [
    "beta.X"
   ]
  },
  {
   "cell_type": "code",
   "execution_count": 149,
   "id": "50bdae9a-43a5-4be5-9538-ad895343032e",
   "metadata": {},
   "outputs": [],
   "source": [
    "Xval = X.X\n",
    "Yval = Y.X\n",
    "Zval = Z.X\n",
    "betaVal = beta.X\n",
    "\n",
    "Xval = np.array(Xval)\n",
    "Yval = np.array(Yval)\n",
    "Zval = np.array(Zval)\n",
    "betaVal = np.array(betaVal)\n",
    "\n",
    "np.save('Xval_2.npy', Xval)\n",
    "np.save('Yval_2.npy', Yval)\n",
    "np.save('Zval_2.npy', Zval)\n",
    "np.save('betaVal_2.npy', betaVal)\n"
   ]
  }
 ],
 "metadata": {
  "kernelspec": {
   "display_name": "Python 3 (ipykernel)",
   "language": "python",
   "name": "python3"
  },
  "language_info": {
   "codemirror_mode": {
    "name": "ipython",
    "version": 3
   },
   "file_extension": ".py",
   "mimetype": "text/x-python",
   "name": "python",
   "nbconvert_exporter": "python",
   "pygments_lexer": "ipython3",
   "version": "3.9.7"
  }
 },
 "nbformat": 4,
 "nbformat_minor": 5
}
