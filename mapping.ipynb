{
 "cells": [
  {
   "cell_type": "code",
   "execution_count": 1,
   "metadata": {},
   "outputs": [],
   "source": [
    "using Gurobi, JuMP, DataFrames, CSV, Plots, Clustering"
   ]
  },
  {
   "attachments": {},
   "cell_type": "markdown",
   "metadata": {},
   "source": [
    "Read in the collected data; demand, supply, and weighting are collected at the sources given in the #readme"
   ]
  },
  {
   "cell_type": "code",
   "execution_count": 2,
   "metadata": {},
   "outputs": [],
   "source": [
    "demand = Matrix(CSV.read(\"data/gurobi/demand.csv\", DataFrame))\n",
    "supply = Matrix(CSV.read(\"data/gurobi/supplyT.csv\", DataFrame))\n",
    "weighting = Matrix(CSV.read(\"data/gurobi/weighting.csv\", DataFrame))\n",
    "inverse_populations = Matrix(CSV.read(\"data/gurobi/inverse_populations.csv\", DataFrame));\n",
    "loc = CSV.read(\"./data/locations.csv\", DataFrame);"
   ]
  },
  {
   "cell_type": "code",
   "execution_count": 3,
   "metadata": {},
   "outputs": [],
   "source": [
    "function distance(x1, y1, x2, y2)\n",
    "    floatpointcorrection = sin(y1)*sin(y2) + cos(y1)*cos(y2)*cos(x1-x2)\n",
    "    floatpointcorrection = ifelse(floatpointcorrection > 1, 1.0, floatpointcorrection)\n",
    "    floatpointcorrection = ifelse(floatpointcorrection < -1, -1.0, floatpointcorrection)\n",
    "    ß = acos(floatpointcorrection)\n",
    "    return ß * 6378.1\n",
    "end;"
   ]
  },
  {
   "cell_type": "code",
   "execution_count": 4,
   "metadata": {},
   "outputs": [
    {
     "data": {
      "text/html": [
       "<div><div style = \"float: left;\"><span>176×3 DataFrame</span></div><div style = \"float: right;\"><span style = \"font-style: italic;\">151 rows omitted</span></div><div style = \"clear: both;\"></div></div><div class = \"data-frame\" style = \"overflow-x: scroll;\"><table class = \"data-frame\" style = \"margin-bottom: 6px;\"><thead><tr class = \"header\"><th class = \"rowNumber\" style = \"font-weight: bold; text-align: right;\">Row</th><th style = \"text-align: left;\">Area</th><th style = \"text-align: left;\">latitude</th><th style = \"text-align: left;\">longitude</th></tr><tr class = \"subheader headerLastRow\"><th class = \"rowNumber\" style = \"font-weight: bold; text-align: right;\"></th><th title = \"String\" style = \"text-align: left;\">String</th><th title = \"Float64\" style = \"text-align: left;\">Float64</th><th title = \"Float64\" style = \"text-align: left;\">Float64</th></tr></thead><tbody><tr><td class = \"rowNumber\" style = \"font-weight: bold; text-align: right;\">1</td><td style = \"text-align: left;\">afghanistan</td><td style = \"text-align: right;\">33.94</td><td style = \"text-align: right;\">67.71</td></tr><tr><td class = \"rowNumber\" style = \"font-weight: bold; text-align: right;\">2</td><td style = \"text-align: left;\">albania</td><td style = \"text-align: right;\">41.15</td><td style = \"text-align: right;\">20.17</td></tr><tr><td class = \"rowNumber\" style = \"font-weight: bold; text-align: right;\">3</td><td style = \"text-align: left;\">algeria</td><td style = \"text-align: right;\">28.03</td><td style = \"text-align: right;\">1.66</td></tr><tr><td class = \"rowNumber\" style = \"font-weight: bold; text-align: right;\">4</td><td style = \"text-align: left;\">angola</td><td style = \"text-align: right;\">-11.2</td><td style = \"text-align: right;\">17.87</td></tr><tr><td class = \"rowNumber\" style = \"font-weight: bold; text-align: right;\">5</td><td style = \"text-align: left;\">antigua and barbuda</td><td style = \"text-align: right;\">17.06</td><td style = \"text-align: right;\">-61.8</td></tr><tr><td class = \"rowNumber\" style = \"font-weight: bold; text-align: right;\">6</td><td style = \"text-align: left;\">argentina</td><td style = \"text-align: right;\">-38.42</td><td style = \"text-align: right;\">-63.62</td></tr><tr><td class = \"rowNumber\" style = \"font-weight: bold; text-align: right;\">7</td><td style = \"text-align: left;\">armenia</td><td style = \"text-align: right;\">40.07</td><td style = \"text-align: right;\">45.04</td></tr><tr><td class = \"rowNumber\" style = \"font-weight: bold; text-align: right;\">8</td><td style = \"text-align: left;\">australia</td><td style = \"text-align: right;\">-25.27</td><td style = \"text-align: right;\">133.78</td></tr><tr><td class = \"rowNumber\" style = \"font-weight: bold; text-align: right;\">9</td><td style = \"text-align: left;\">austria</td><td style = \"text-align: right;\">47.52</td><td style = \"text-align: right;\">14.55</td></tr><tr><td class = \"rowNumber\" style = \"font-weight: bold; text-align: right;\">10</td><td style = \"text-align: left;\">azerbaijan</td><td style = \"text-align: right;\">40.14</td><td style = \"text-align: right;\">47.58</td></tr><tr><td class = \"rowNumber\" style = \"font-weight: bold; text-align: right;\">11</td><td style = \"text-align: left;\">bahamas</td><td style = \"text-align: right;\">25.03</td><td style = \"text-align: right;\">-77.4</td></tr><tr><td class = \"rowNumber\" style = \"font-weight: bold; text-align: right;\">12</td><td style = \"text-align: left;\">bangladesh</td><td style = \"text-align: right;\">23.68</td><td style = \"text-align: right;\">90.36</td></tr><tr><td class = \"rowNumber\" style = \"font-weight: bold; text-align: right;\">13</td><td style = \"text-align: left;\">barbados</td><td style = \"text-align: right;\">13.19</td><td style = \"text-align: right;\">-59.54</td></tr><tr><td style = \"text-align: right;\">&vellip;</td><td style = \"text-align: right;\">&vellip;</td><td style = \"text-align: right;\">&vellip;</td><td style = \"text-align: right;\">&vellip;</td></tr><tr><td class = \"rowNumber\" style = \"font-weight: bold; text-align: right;\">165</td><td style = \"text-align: left;\">vietnam</td><td style = \"text-align: right;\">14.06</td><td style = \"text-align: right;\">108.28</td></tr><tr><td class = \"rowNumber\" style = \"font-weight: bold; text-align: right;\">166</td><td style = \"text-align: left;\">yemen</td><td style = \"text-align: right;\">15.55</td><td style = \"text-align: right;\">48.52</td></tr><tr><td class = \"rowNumber\" style = \"font-weight: bold; text-align: right;\">167</td><td style = \"text-align: left;\">zambia</td><td style = \"text-align: right;\">-13.13</td><td style = \"text-align: right;\">27.85</td></tr><tr><td class = \"rowNumber\" style = \"font-weight: bold; text-align: right;\">168</td><td style = \"text-align: left;\">zimbabwe</td><td style = \"text-align: right;\">-19.02</td><td style = \"text-align: right;\">29.15</td></tr><tr><td class = \"rowNumber\" style = \"font-weight: bold; text-align: right;\">169</td><td style = \"text-align: left;\">Hub1</td><td style = \"text-align: right;\">10.8196</td><td style = \"text-align: right;\">123.327</td></tr><tr><td class = \"rowNumber\" style = \"font-weight: bold; text-align: right;\">170</td><td style = \"text-align: left;\">Hub2</td><td style = \"text-align: right;\">5.72212</td><td style = \"text-align: right;\">-69.9339</td></tr><tr><td class = \"rowNumber\" style = \"font-weight: bold; text-align: right;\">171</td><td style = \"text-align: left;\">Hub3</td><td style = \"text-align: right;\">-11.6033</td><td style = \"text-align: right;\">-163.413</td></tr><tr><td class = \"rowNumber\" style = \"font-weight: bold; text-align: right;\">172</td><td style = \"text-align: left;\">Hub4</td><td style = \"text-align: right;\">30.1032</td><td style = \"text-align: right;\">54.445</td></tr><tr><td class = \"rowNumber\" style = \"font-weight: bold; text-align: right;\">173</td><td style = \"text-align: left;\">Hub5</td><td style = \"text-align: right;\">-10.4432</td><td style = \"text-align: right;\">30.8368</td></tr><tr><td class = \"rowNumber\" style = \"font-weight: bold; text-align: right;\">174</td><td style = \"text-align: left;\">Hub6</td><td style = \"text-align: right;\">12.5</td><td style = \"text-align: right;\">-1.48</td></tr><tr><td class = \"rowNumber\" style = \"font-weight: bold; text-align: right;\">175</td><td style = \"text-align: left;\">Hub7</td><td style = \"text-align: right;\">48.6769</td><td style = \"text-align: right;\">13.9685</td></tr><tr><td class = \"rowNumber\" style = \"font-weight: bold; text-align: right;\">176</td><td style = \"text-align: left;\">Hub8</td><td style = \"text-align: right;\">38.95</td><td style = \"text-align: right;\">-101.537</td></tr></tbody></table></div>"
      ],
      "text/latex": [
       "\\begin{tabular}{r|ccc}\n",
       "\t& Area & latitude & longitude\\\\\n",
       "\t\\hline\n",
       "\t& String & Float64 & Float64\\\\\n",
       "\t\\hline\n",
       "\t1 & afghanistan & 33.94 & 67.71 \\\\\n",
       "\t2 & albania & 41.15 & 20.17 \\\\\n",
       "\t3 & algeria & 28.03 & 1.66 \\\\\n",
       "\t4 & angola & -11.2 & 17.87 \\\\\n",
       "\t5 & antigua and barbuda & 17.06 & -61.8 \\\\\n",
       "\t6 & argentina & -38.42 & -63.62 \\\\\n",
       "\t7 & armenia & 40.07 & 45.04 \\\\\n",
       "\t8 & australia & -25.27 & 133.78 \\\\\n",
       "\t9 & austria & 47.52 & 14.55 \\\\\n",
       "\t10 & azerbaijan & 40.14 & 47.58 \\\\\n",
       "\t11 & bahamas & 25.03 & -77.4 \\\\\n",
       "\t12 & bangladesh & 23.68 & 90.36 \\\\\n",
       "\t13 & barbados & 13.19 & -59.54 \\\\\n",
       "\t14 & belarus & 53.71 & 27.95 \\\\\n",
       "\t15 & belgium & 50.5 & 4.47 \\\\\n",
       "\t16 & belize & 17.19 & -88.5 \\\\\n",
       "\t17 & benin & 9.31 & 2.32 \\\\\n",
       "\t18 & bermuda & 32.32 & -64.76 \\\\\n",
       "\t19 & bolivia & -16.29 & -63.59 \\\\\n",
       "\t20 & bosnia and herzegovina & 43.92 & 17.68 \\\\\n",
       "\t21 & botswana & -22.33 & 24.68 \\\\\n",
       "\t22 & brazil & -14.24 & -51.93 \\\\\n",
       "\t23 & brunei & 4.54 & 114.73 \\\\\n",
       "\t24 & bulgaria & 42.73 & 25.49 \\\\\n",
       "\t25 & burkina faso & 12.24 & -1.56 \\\\\n",
       "\t26 & cambodia & 12.57 & 104.99 \\\\\n",
       "\t27 & cameroon & 7.37 & 12.35 \\\\\n",
       "\t28 & canada & 56.13 & -106.35 \\\\\n",
       "\t29 & central african republic & 6.61 & 20.94 \\\\\n",
       "\t30 & chad & 15.45 & 18.73 \\\\\n",
       "\t$\\dots$ & $\\dots$ & $\\dots$ & $\\dots$ \\\\\n",
       "\\end{tabular}\n"
      ],
      "text/plain": [
       "\u001b[1m176×3 DataFrame\n",
       "\u001b[1m Row │\u001b[1m Area                \u001b[1m latitude  \u001b[1m longitude\n",
       "     │\u001b[90m String              \u001b[90m Float64   \u001b[90m Float64\n",
       "─────┼───────────────────────────────────────────\n",
       "   1 │ afghanistan           33.94       67.71\n",
       "   2 │ albania               41.15       20.17\n",
       "   3 │ algeria               28.03        1.66\n",
       "   4 │ angola               -11.2        17.87\n",
       "   5 │ antigua and barbuda   17.06      -61.8\n",
       "   6 │ argentina            -38.42      -63.62\n",
       "   7 │ armenia               40.07       45.04\n",
       "   8 │ australia            -25.27      133.78\n",
       "   9 │ austria               47.52       14.55\n",
       "  10 │ azerbaijan            40.14       47.58\n",
       "  11 │ bahamas               25.03      -77.4\n",
       "  ⋮  │          ⋮               ⋮          ⋮\n",
       " 167 │ zambia               -13.13       27.85\n",
       " 168 │ zimbabwe             -19.02       29.15\n",
       " 169 │ Hub1                  10.8196    123.327\n",
       " 170 │ Hub2                   5.72212   -69.9339\n",
       " 171 │ Hub3                 -11.6033   -163.413\n",
       " 172 │ Hub4                  30.1032     54.445\n",
       " 173 │ Hub5                 -10.4432     30.8368\n",
       " 174 │ Hub6                  12.5        -1.48\n",
       " 175 │ Hub7                  48.6769     13.9685\n",
       " 176 │ Hub8                  38.95     -101.537\n",
       "\u001b[36m                                 155 rows omitted"
      ]
     },
     "execution_count": 4,
     "metadata": {},
     "output_type": "execute_result"
    }
   ],
   "source": [
    "demand = vcat(demand,zeros(8,4))\n",
    "supply = vcat(supply,zeros(8,74))\n",
    "inverse_populations = vcat(inverse_populations,zeros(8,1))\n",
    "dog = CSV.read(\"./data/cluster_centers.csv\", DataFrame)\n",
    "dog[!,:Area] = [\"Hub1\",\"Hub2\",\"Hub3\",\"Hub4\",\"Hub5\",\"Hub6\",\"Hub7\",\"Hub8\"]\n",
    "loc = vcat(loc, dog)"
   ]
  },
  {
   "cell_type": "code",
   "execution_count": 5,
   "metadata": {},
   "outputs": [],
   "source": [
    "arcDistance = DataFrame(zeros(176, 176), :auto)\n",
    "for i in 1:176\n",
    "    for j in 1:176\n",
    "        arcDistance[i, j] = distance(loc[i,2], loc[i,3], loc[j,2], loc[j,3])\n",
    "    end\n",
    "end\n",
    "arcDistance = Matrix(round.(arcDistance, digits=7));"
   ]
  },
  {
   "cell_type": "code",
   "execution_count": 9,
   "metadata": {},
   "outputs": [],
   "source": [
    "using Tables"
   ]
  },
  {
   "cell_type": "code",
   "execution_count": 12,
   "metadata": {},
   "outputs": [],
   "source": [
    "CSV.write(\"data/gurobi/arcDistance.csv\", Tables.table(arcDistance))\n",
    "CSV.write(\"data/gurobi/demand.csv\", Tables.table(demand))\n",
    "CSV.write(\"data/gurobi/supplyT.csv\", Tables.table(supply))\n",
    "CSV.write(\"data/gurobi/weighting.csv\", Tables.table(weighting))\n",
    "CSV.write(\"data/gurobi/inverse_populations.csv\", Tables.table(inverse_populations));"
   ]
  },
  {
   "cell_type": "code",
   "execution_count": null,
   "metadata": {},
   "outputs": [],
   "source": [
    "G = 10000000\n",
    "H = 78.91\n",
    "å = 0.075\n",
    "øH= 0.6\n",
    "lambda = 250 * 365\n",
    "n = 176\n",
    "p = 74\n",
    "q = 8\n",
    "K = 74\n",
    "uncertainty = 50\n",
    "inverse_foods = inv.([41.3, 107.38, 37.9961, 330.4])"
   ]
  },
  {
   "cell_type": "code",
   "execution_count": 27,
   "metadata": {},
   "outputs": [
    {
     "data": {
      "text/plain": [
       "∑ (generic function with 1 method)"
      ]
     },
     "execution_count": 27,
     "metadata": {},
     "output_type": "execute_result"
    }
   ],
   "source": [
    "function ∑(x)\n",
    "    return sum(x)\n",
    "end"
   ]
  },
  {
   "cell_type": "code",
   "execution_count": 30,
   "metadata": {},
   "outputs": [],
   "source": [
    "model = Model(Gurobi.Optimizer)\n",
    "# set_time_limit_sec(model, 60.0)\n",
    "@variable(model, X[i=1:n,j=1:n,k=1:p] .≥ 0)\n",
    "@variable(model, Y[i=1:n,j=1:n,k=1:p] .≥ 0)\n",
    "@variable(model, Z[i=1:n,j=1:n,k=1:p] .≥ 0)\n",
    "@variable(model, ß ≥ 0) # integer = true\n",
    "\n",
    "@constraint(model, hubRestriction[l=1:168], ∑(∑(Y[:,l,:])) ≤ 0)\n",
    "@constraint(model, hubRestriction1[l=1:168], ∑(∑(Z[l,:,:])) ≤ 0)\n",
    "@constraint(model, hubEquality[l=169:n,k=1:p], ∑(Y[:,l,k]) .== ∑(Z[l,:,k]))\n",
    "@constraint(model, realSupply, ∑(X[:,l,:] for l=1:168) + ∑(Y[:,l,:] for l=169:n) .≤ abs.(supply))\n",
    "\n",
    "@constraint(model, auxiliary, ß .≥ inverse_populations * (demand - G * (∑((X + Z)[l,:,:] for l=1:n)) * weighting) * inverse_foods)\n",
    "\n",
    "@objective(model, Min, å * H * ∑(\n",
    "    ∑( arcDistance .* ∑(X[i,j,:]) for j=1:168 ) + \n",
    "    ∑( arcDistance .* ∑((Y.*øH)[i,j,:] ) for j=169:n ) + \n",
    "    ∑( arcDistance .* ∑(Z[j,i,:]) for j=169:n ) for i=1:168) + \n",
    "    (1-å) * ß * lambda)\n",
    "\n",
    "optimize!(model)"
   ]
  },
  {
   "cell_type": "code",
   "execution_count": null,
   "metadata": {},
   "outputs": [],
   "source": []
  }
 ],
 "metadata": {
  "kernelspec": {
   "display_name": "Julia 1.8.2",
   "language": "julia",
   "name": "julia-1.8"
  },
  "language_info": {
   "file_extension": ".jl",
   "mimetype": "application/julia",
   "name": "julia",
   "version": "1.8.2"
  },
  "orig_nbformat": 4,
  "vscode": {
   "interpreter": {
    "hash": "abd280d666bc7ac0970437e541308528dc2e63fef0779e2e8f450bcffa0699d3"
   }
  }
 },
 "nbformat": 4,
 "nbformat_minor": 2
}
